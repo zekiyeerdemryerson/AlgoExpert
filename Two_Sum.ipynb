{
  "nbformat": 4,
  "nbformat_minor": 0,
  "metadata": {
    "colab": {
      "name": "Two_Sum.ipynb",
      "provenance": [],
      "authorship_tag": "ABX9TyPOk6UYOV5z6CxdZBVitJ1E",
      "include_colab_link": true
    },
    "kernelspec": {
      "name": "python3",
      "display_name": "Python 3"
    },
    "language_info": {
      "name": "python"
    }
  },
  "cells": [
    {
      "cell_type": "markdown",
      "metadata": {
        "id": "view-in-github",
        "colab_type": "text"
      },
      "source": [
        "<a href=\"https://colab.research.google.com/github/zekiyeerdemryerson/AlgoExpert/blob/main/Two_Sum.ipynb\" target=\"_parent\"><img src=\"https://colab.research.google.com/assets/colab-badge.svg\" alt=\"Open In Colab\"/></a>"
      ]
    },
    {
      "cell_type": "code",
      "metadata": {
        "colab": {
          "base_uri": "https://localhost:8080/"
        },
        "id": "277bT9TpcyDX",
        "outputId": "cb3c1061-e9f2-4739-9ed0-1947a48b3dfe"
      },
      "source": [
        "def twoNumberSum(array, targetSum):\n",
        "\tfor i in range(len(array)-1):\n",
        "\t\tfirstNum=array[i]\n",
        "\t\tfor j in range(i + 1,len(array)):\n",
        "\t\t\tsecondNum=array[j]\n",
        "\t\t\tif   firstNum + secondNum == targetSum:\n",
        "\t\t\t\treturn[firstNum,secondNum]\n",
        "\treturn []\n",
        "    \n",
        "    \n",
        "array=[1,2,3]\n",
        "targetSum=5\n",
        "twoNumberSum(array,targetSum)"
      ],
      "execution_count": 17,
      "outputs": [
        {
          "output_type": "execute_result",
          "data": {
            "text/plain": [
              "[2, 3]"
            ]
          },
          "metadata": {},
          "execution_count": 17
        }
      ]
    },
    {
      "cell_type": "code",
      "metadata": {
        "colab": {
          "base_uri": "https://localhost:8080/"
        },
        "id": "QwtBh55em1uA",
        "outputId": "b311ac28-74e3-4e8a-88cb-4a44221a7d7b"
      },
      "source": [
        "array=[3,5,6,7,8]\n",
        "target=9\n",
        "for i in range(len(array)-1):\n",
        "  firstN=array[i]\n",
        "  for j in range(i+1,len(array)):\n",
        "    secondN=array[j]\n",
        "    if firstN+secondN == target:\n",
        "      print(firstN,secondN)\n",
        "\n"
      ],
      "execution_count": 42,
      "outputs": [
        {
          "output_type": "stream",
          "name": "stdout",
          "text": [
            "3 6\n"
          ]
        }
      ]
    }
  ]
}